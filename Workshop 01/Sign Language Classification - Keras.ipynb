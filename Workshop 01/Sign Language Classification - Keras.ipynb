{
 "cells": [
  {
   "attachments": {},
   "cell_type": "markdown",
   "metadata": {},
   "source": [
    "## Import Libraries"
   ]
  },
  {
   "cell_type": "code",
   "execution_count": null,
   "metadata": {},
   "outputs": [],
   "source": [
    "# Dataset Processing\n",
    "from PIL import Image\n",
    "import numpy as np\n",
    "import pandas as pd\n",
    "\n",
    "# Machine Learning\n",
    "from sklearn.model_selection import train_test_split\n",
    "\n",
    "from keras.utils import to_categorical\n",
    "from keras.models import Sequential\n",
    "from keras.layers import Dense, Flatten, Conv2D, MaxPooling2D, BatchNormalization\n",
    "\n",
    "# Plotting\n",
    "import matplotlib.pyplot as plt\n",
    "import seaborn as sns\n",
    "import os\n",
    "\n",
    "%matplotlib inline"
   ]
  },
  {
   "attachments": {},
   "cell_type": "markdown",
   "metadata": {},
   "source": [
    "## Define Constants"
   ]
  },
  {
   "cell_type": "code",
   "execution_count": null,
   "metadata": {},
   "outputs": [],
   "source": [
    "IMAGE_WIDTH=256\n",
    "IMAGE_HEIGHT=256\n",
    "IMAGE_SIZE=(IMAGE_WIDTH, IMAGE_HEIGHT)\n",
    "IMAGE_CHANNELS=3\n",
    "\n",
    "ROOT_DIR = \"\"\n",
    "LABEL2INT ={\"A\": 0, \"B\": 1, \"C\": 2, \"D\": 3,\n",
    "            \"E\": 4, \"F\": 5, \"G\": 6, \"H\": 7,\n",
    "            \"I\": 8, \"J\": 9, \"K\": 10, \"L\": 11,\n",
    "            \"M\": 12, \"N\": 13, \"O\": 14, \"P\": 15,\n",
    "            \"Q\": 16, \"R\": 17, \"S\": 18, \"T\": 19,\n",
    "            \"U\": 20, \"V\": 21, \"W\": 22, \"X\": 23,\n",
    "            \"Y\": 24, \"Z\": 25}"
   ]
  },
  {
   "attachments": {},
   "cell_type": "markdown",
   "metadata": {},
   "source": [
    "## Load Dataset\n",
    "### 2.1 Extract filenames"
   ]
  },
  {
   "cell_type": "code",
   "execution_count": null,
   "metadata": {},
   "outputs": [],
   "source": [
    "filenames = os.listdir(f\"{ROOT_DIR}/dataset\")\n",
    "\n",
    "# filename format: [category].[id].jpg\n",
    "\n",
    "categories = []\n",
    "for filename in filenames:\n",
    "    category = filename.split('.')[0]\n",
    "    categories.append(LABEL2INT[category])\n",
    "\n",
    "df = pd.DataFrame({\n",
    "    'filename': filenames,\n",
    "    'category': categories\n",
    "})"
   ]
  },
  {
   "attachments": {},
   "cell_type": "markdown",
   "metadata": {},
   "source": [
    "### 2.2 Convert filenames to images"
   ]
  },
  {
   "cell_type": "code",
   "execution_count": null,
   "metadata": {},
   "outputs": [],
   "source": [
    "def filename_to_image(filename):\n",
    "    img = Image.open(f\"{ROOT_DIR}/dataset/{filename}\")\n",
    "    img = img.resize(IMAGE_SIZE)\n",
    "    return np.array(img)\n",
    "\n",
    "train_df, test_df = train_test_split(df, test_size=0.20, random_state=42)\n",
    "\n",
    "X_train = train_df['filename'].apply(filename_to_image)\n",
    "Y_train = train_df['category']\n",
    "\n",
    "X_test = test_df['filename'].apply(filename_to_image)\n",
    "Y_test = test_df['category']\n",
    "\n",
    "g = sns.countplot(df['category'])"
   ]
  },
  {
   "attachments": {},
   "cell_type": "markdown",
   "metadata": {},
   "source": [
    "### 2.3 Label encoding"
   ]
  },
  {
   "cell_type": "code",
   "execution_count": null,
   "metadata": {},
   "outputs": [],
   "source": [
    "# Encode labels to one hot vectors (ex : \"B\" -> 0 -> [0,1,0,0,0,0,\n",
    "                                                    # 0,0,0,0,0,0,\n",
    "                                                    # 0,0,0,0,0,0,\n",
    "                                                    # 0,0,0,0,0,0,\n",
    "                                                    # 0,0])\n",
    "Y_train = to_categorical(Y_train, num_classes = 26)\n",
    "Y_test = to_categorical(Y_test, num_classes = 26)"
   ]
  },
  {
   "attachments": {},
   "cell_type": "markdown",
   "metadata": {},
   "source": [
    "### 2.4 Example Sample"
   ]
  },
  {
   "cell_type": "code",
   "execution_count": null,
   "metadata": {},
   "outputs": [],
   "source": [
    "# Some examples\n",
    "g = plt.imshow(X_train[0][:,:,:])"
   ]
  },
  {
   "attachments": {},
   "cell_type": "markdown",
   "metadata": {},
   "source": [
    "## CNN\n",
    "### 3.1 Define the model"
   ]
  },
  {
   "cell_type": "code",
   "execution_count": null,
   "metadata": {},
   "outputs": [],
   "source": [
    "# Set the CNN model \n",
    "# our CNN architechture is In -> [[Conv2D->relu] -> BatchNormalize -> MaxPool2D]*3 -> Flatten -> Dense -> BatchNormalize -> Out\n",
    "\n",
    "model = Sequential()\n",
    "\n",
    "model.add(Conv2D(32, (3, 3), activation='relu', input_shape=(IMAGE_WIDTH, IMAGE_HEIGHT, IMAGE_CHANNELS)))\n",
    "model.add(BatchNormalization())\n",
    "model.add(MaxPooling2D(pool_size=(2, 2)))\n",
    "\n",
    "model.add(Conv2D(64, (3, 3), activation='relu'))\n",
    "model.add(BatchNormalization())\n",
    "model.add(MaxPooling2D(pool_size=(2, 2)))\n",
    "\n",
    "model.add(Conv2D(128, (3, 3), activation='relu'))\n",
    "model.add(BatchNormalization())\n",
    "model.add(MaxPooling2D(pool_size=(2, 2)))\n",
    "\n",
    "model.add(Flatten())\n",
    "model.add(Dense(512, activation='relu'))\n",
    "model.add(BatchNormalization())\n",
    "model.add(Dense(26, activation='softmax'))"
   ]
  },
  {
   "attachments": {},
   "cell_type": "markdown",
   "metadata": {},
   "source": [
    "### 3.2 Set the Optimizer"
   ]
  },
  {
   "cell_type": "code",
   "execution_count": null,
   "metadata": {},
   "outputs": [],
   "source": [
    "# Compile the model\n",
    "model.compile(optimizer = 'rmsprop', loss = \"categorical_crossentropy\", metrics=[\"accuracy\"])"
   ]
  },
  {
   "attachments": {},
   "cell_type": "markdown",
   "metadata": {},
   "source": [
    "## Training"
   ]
  },
  {
   "cell_type": "code",
   "execution_count": null,
   "metadata": {},
   "outputs": [],
   "source": [
    "model.fit(X_train, Y_train, batch_size = 64, epochs = 10, validation_data = (X_test, Y_test))"
   ]
  },
  {
   "attachments": {},
   "cell_type": "markdown",
   "metadata": {},
   "source": [
    "## Evaluation"
   ]
  },
  {
   "attachments": {},
   "cell_type": "markdown",
   "metadata": {},
   "source": [
    "# Advanced Concepts\n",
    "## Preprocessing \n",
    "Histogram Equalization, Mean Normalization, Standard Deviation Normalization\n",
    "## Augmentation\n",
    "Rotating, Mirroring, Blurring, Noising\n",
    "## Regularization\n",
    "Handling Overfitting\n",
    "## Model Designing\n",
    "## Optimizers\n",
    "## Finetuning Existing Models"
   ]
  }
 ],
 "metadata": {
  "kernelspec": {
   "display_name": "Python 3",
   "language": "python",
   "name": "python3"
  },
  "language_info": {
   "codemirror_mode": {
    "name": "ipython",
    "version": 3
   },
   "file_extension": ".py",
   "mimetype": "text/x-python",
   "name": "python",
   "nbconvert_exporter": "python",
   "pygments_lexer": "ipython3",
   "version": "3.10.7"
  },
  "orig_nbformat": 4
 },
 "nbformat": 4,
 "nbformat_minor": 2
}
