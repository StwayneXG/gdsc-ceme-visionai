{
  "cells": [
    {
      "cell_type": "markdown",
      "metadata": {
        "id": "70tbx7pMIKvJ"
      },
      "source": [
        "## Import Libraries"
      ]
    },
    {
      "cell_type": "code",
      "execution_count": 1,
      "metadata": {
        "id": "_vbNDqc7IKvL"
      },
      "outputs": [],
      "source": [
        "# Dataset Processing\n",
        "from PIL import Image\n",
        "import numpy as np\n",
        "import pandas as pd\n",
        "import cv2\n",
        "\n",
        "# Machine Learning\n",
        "from sklearn.model_selection import train_test_split\n",
        "\n",
        "import tensorflow as tf\n",
        "from keras.utils import to_categorical\n",
        "from keras.models import Sequential\n",
        "from keras.layers import Dense, Flatten, Conv2D, MaxPooling2D, BatchNormalization\n",
        "\n",
        "# Plotting\n",
        "import matplotlib.pyplot as plt\n",
        "import seaborn as sns\n",
        "import os\n",
        "\n",
        "%matplotlib inline"
      ]
    },
    {
      "cell_type": "markdown",
      "metadata": {
        "id": "i16s25u7IKvM"
      },
      "source": [
        "## Define Constants"
      ]
    },
    {
      "cell_type": "code",
      "execution_count": 2,
      "metadata": {
        "id": "-uNZPw4GIKvN"
      },
      "outputs": [],
      "source": [
        "IMAGE_WIDTH=28\n",
        "IMAGE_HEIGHT=28\n",
        "IMAGE_SIZE=(IMAGE_WIDTH, IMAGE_HEIGHT)\n",
        "IMAGE_CHANNELS=1\n",
        "\n",
        "ROOT_DIR = os.path.abspath(\"./\")\n",
        "LABEL2INT ={\"A\": 0, \"B\": 1, \"C\": 2, \"D\": 3,\n",
        "            \"E\": 4, \"F\": 5, \"G\": 6, \"H\": 7,\n",
        "            \"I\": 8, \"K\": 9, \"L\": 10, \"M\": 11,\n",
        "            \"N\": 12, \"O\": 13, \"P\": 14, \"Q\": 15,\n",
        "            \"R\": 16, \"S\": 17, \"T\": 18, \"U\": 19,\n",
        "            \"V\": 20, \"W\": 21, \"X\": 22, \"Y\": 23}\n",
        "# LABEL2INT ={\"A\": 0, \"B\": 1, \"C\": 2, \"D\": 3,\n",
        "#             \"E\": 4, \"F\": 5, \"G\": 6, \"H\": 7,\n",
        "#             \"I\": 8, \"J\": 9, \"K\": 10, \"L\": 11,\n",
        "#             \"M\": 12, \"N\": 13, \"O\": 14, \"P\": 15,\n",
        "#             \"Q\": 16, \"R\": 17, \"S\": 18, \"T\": 19,\n",
        "#             \"U\": 20, \"V\": 21, \"W\": 22, \"X\": 23,\n",
        "#             \"Y\": 24, \"Z\": 25}"
      ]
    },
    {
      "cell_type": "markdown",
      "metadata": {
        "id": "H2yPEu3XIKvN"
      },
      "source": [
        "## Load Dataset\n",
        "### 2.1 Extract filenames"
      ]
    },
    {
      "cell_type": "code",
      "execution_count": 10,
      "metadata": {
        "id": "GsmtHbOwIKvN"
      },
      "outputs": [],
      "source": [
        "filenames = os.listdir(f\"{ROOT_DIR}/SLC_MNIST_DATA\")\n",
        "\n",
        "# filename format: [category].[id].jpg\n",
        "\n",
        "categories = []\n",
        "for filename in filenames:\n",
        "    category = filename.split('.')[0]\n",
        "    categories.append(LABEL2INT[category])\n",
        "\n",
        "df = pd.DataFrame({\n",
        "    'filename': filenames,\n",
        "    'category': categories\n",
        "})"
      ]
    },
    {
      "cell_type": "code",
      "execution_count": 6,
      "metadata": {},
      "outputs": [
        {
          "data": {
            "text/plain": [
              "0      A.0.png\n",
              "1      B.1.png\n",
              "2      C.2.png\n",
              "3      D.3.png\n",
              "4      E.4.png\n",
              "5      F.5.png\n",
              "6      G.6.png\n",
              "7      H.7.png\n",
              "8      I.8.png\n",
              "9     K.10.png\n",
              "10    L.11.png\n",
              "11    M.12.png\n",
              "12    N.13.png\n",
              "13    O.14.png\n",
              "14    P.15.png\n",
              "15    Q.16.png\n",
              "16    R.17.png\n",
              "17    S.18.png\n",
              "18    T.19.png\n",
              "19    U.20.png\n",
              "20    V.21.png\n",
              "21    W.22.png\n",
              "22    X.23.png\n",
              "23    Y.24.png\n",
              "Name: filename, dtype: object"
            ]
          },
          "execution_count": 6,
          "metadata": {},
          "output_type": "execute_result"
        }
      ],
      "source": [
        "df['filename']"
      ]
    },
    {
      "cell_type": "code",
      "execution_count": 4,
      "metadata": {},
      "outputs": [
        {
          "data": {
            "text/plain": [
              "0      0\n",
              "1      1\n",
              "2      2\n",
              "3      3\n",
              "4      4\n",
              "5      5\n",
              "6      6\n",
              "7      7\n",
              "8      8\n",
              "9      9\n",
              "10    10\n",
              "11    11\n",
              "12    12\n",
              "13    13\n",
              "14    14\n",
              "15    15\n",
              "16    16\n",
              "17    17\n",
              "18    18\n",
              "19    19\n",
              "20    20\n",
              "21    21\n",
              "22    22\n",
              "23    23\n",
              "Name: category, dtype: int64"
            ]
          },
          "execution_count": 4,
          "metadata": {},
          "output_type": "execute_result"
        }
      ],
      "source": [
        "df['category']"
      ]
    },
    {
      "cell_type": "markdown",
      "metadata": {
        "id": "7ciDBXVDIKvO"
      },
      "source": [
        "### 2.2 Convert filenames to images"
      ]
    },
    {
      "cell_type": "code",
      "execution_count": 59,
      "metadata": {
        "colab": {
          "base_uri": "https://localhost:8080/",
          "height": 432
        },
        "id": "FslkWJ7tIKvO",
        "outputId": "a640e598-97a0-47af-9065-6959b2eacdc1"
      },
      "outputs": [
        {
          "data": {
            "image/png": "[encoded data removed]",
            "text/plain": [
              "<Figure size 640x480 with 1 Axes>"
            ]
          },
          "metadata": {},
          "output_type": "display_data"
        }
      ],
      "source": [
        "def filename_to_image(filename):\n",
        "    img = Image.open(f\"{ROOT_DIR}/SLC_MNIST_DATA/{filename}\")\n",
        "    img = img.resize(IMAGE_SIZE)\n",
        "    return np.array(img).astype('float32')\n",
        "\n",
        "train_df, test_df = train_test_split(df, test_size=0.20, random_state=42)\n",
        "\n",
        "X_train = train_df['filename'].apply(filename_to_image)\n",
        "Y_train = train_df['category']\n",
        "\n",
        "X_test = test_df['filename'].apply(filename_to_image)\n",
        "Y_test = test_df['category']\n",
        "\n",
        "g = sns.countplot(df['category'])"
      ]
    },
    {
      "cell_type": "markdown",
      "metadata": {
        "id": "ay9XU3o3IKvO"
      },
      "source": [
        "### 2.3 Label encoding"
      ]
    },
    {
      "cell_type": "code",
      "execution_count": 60,
      "metadata": {},
      "outputs": [
        {
          "ename": "ValueError",
          "evalue": "Failed to convert a NumPy array to a Tensor (Unsupported object type numpy.ndarray).",
          "output_type": "error",
          "traceback": [
            "\u001b[1;31m---------------------------------------------------------------------------\u001b[0m",
            "\u001b[1;31mValueError\u001b[0m                                Traceback (most recent call last)",
            "Cell \u001b[1;32mIn[60], line 1\u001b[0m\n\u001b[1;32m----> 1\u001b[0m tensor \u001b[39m=\u001b[39m tf\u001b[39m.\u001b[39;49mconvert_to_tensor(X_train)\n",
            "File \u001b[1;32mc:\\Users\\StwayneXG\\AppData\\Local\\Programs\\Python\\Python310\\lib\\site-packages\\tensorflow\\python\\util\\traceback_utils.py:153\u001b[0m, in \u001b[0;36mfilter_traceback.<locals>.error_handler\u001b[1;34m(*args, **kwargs)\u001b[0m\n\u001b[0;32m    151\u001b[0m \u001b[39mexcept\u001b[39;00m \u001b[39mException\u001b[39;00m \u001b[39mas\u001b[39;00m e:\n\u001b[0;32m    152\u001b[0m   filtered_tb \u001b[39m=\u001b[39m _process_traceback_frames(e\u001b[39m.\u001b[39m__traceback__)\n\u001b[1;32m--> 153\u001b[0m   \u001b[39mraise\u001b[39;00m e\u001b[39m.\u001b[39mwith_traceback(filtered_tb) \u001b[39mfrom\u001b[39;00m \u001b[39mNone\u001b[39m\n\u001b[0;32m    154\u001b[0m \u001b[39mfinally\u001b[39;00m:\n\u001b[0;32m    155\u001b[0m   \u001b[39mdel\u001b[39;00m filtered_tb\n",
            "File \u001b[1;32mc:\\Users\\StwayneXG\\AppData\\Local\\Programs\\Python\\Python310\\lib\\site-packages\\tensorflow\\python\\framework\\constant_op.py:102\u001b[0m, in \u001b[0;36mconvert_to_eager_tensor\u001b[1;34m(value, ctx, dtype)\u001b[0m\n\u001b[0;32m    100\u001b[0m     dtype \u001b[39m=\u001b[39m dtypes\u001b[39m.\u001b[39mas_dtype(dtype)\u001b[39m.\u001b[39mas_datatype_enum\n\u001b[0;32m    101\u001b[0m ctx\u001b[39m.\u001b[39mensure_initialized()\n\u001b[1;32m--> 102\u001b[0m \u001b[39mreturn\u001b[39;00m ops\u001b[39m.\u001b[39;49mEagerTensor(value, ctx\u001b[39m.\u001b[39;49mdevice_name, dtype)\n",
            "\u001b[1;31mValueError\u001b[0m: Failed to convert a NumPy array to a Tensor (Unsupported object type numpy.ndarray)."
          ]
        }
      ],
      "source": [
        "tensor = tf.convert_to_tensor(X_train)"
      ]
    },
    {
      "cell_type": "code",
      "execution_count": 57,
      "metadata": {},
      "outputs": [
        {
          "data": {
            "text/plain": [
              "9     [[114, 122, 127, 130, 133, 137, 142, 144, 146,...\n",
              "13    [[167, 169, 170, 171, 171, 172, 172, 172, 171,...\n",
              "1     [[181, 182, 183, 182, 183, 183, 183, 183, 182,...\n",
              "21    [[159, 162, 167, 169, 172, 175, 176, 177, 179,...\n",
              "5     [[174, 177, 179, 181, 183, 184, 185, 188, 193,...\n",
              "2     [[164, 166, 167, 167, 168, 168, 168, 168, 168,...\n",
              "12    [[189, 189, 190, 190, 192, 193, 193, 193, 193,...\n",
              "15    [[153, 158, 161, 162, 165, 170, 174, 177, 179,...\n",
              "3     [[163, 165, 166, 167, 167, 167, 168, 168, 169,...\n",
              "4     [[178, 178, 179, 179, 178, 178, 177, 176, 177,...\n",
              "22    [[179, 180, 180, 180, 182, 181, 182, 183, 182,...\n",
              "17    [[174, 174, 174, 174, 174, 175, 175, 174, 173,...\n",
              "20    [[190, 191, 194, 198, 198, 198, 198, 199, 200,...\n",
              "23    [[174, 177, 179, 180, 180, 183, 183, 183, 183,...\n",
              "7     [[222, 223, 220, 220, 221, 221, 222, 222, 222,...\n",
              "10    [[170, 172, 175, 177, 179, 182, 185, 186, 187,...\n",
              "14    [[81, 88, 95, 106, 120, 118, 123, 132, 136, 13...\n",
              "19    [[162, 168, 172, 176, 179, 183, 184, 185, 188,...\n",
              "6     [[197, 197, 199, 200, 200, 198, 199, 197, 197,...\n",
              "Name: filename, dtype: object"
            ]
          },
          "execution_count": 57,
          "metadata": {},
          "output_type": "execute_result"
        }
      ],
      "source": [
        "X_train "
      ]
    },
    {
      "cell_type": "code",
      "execution_count": 55,
      "metadata": {
        "colab": {
          "base_uri": "https://localhost:8080/"
        },
        "id": "Aea3Y4l2ha-s",
        "outputId": "1e720590-ce8a-48f8-9680-ad8651a8c6de"
      },
      "outputs": [
        {
          "ename": "ValueError",
          "evalue": "setting an array element with a sequence.",
          "output_type": "error",
          "traceback": [
            "\u001b[1;31m---------------------------------------------------------------------------\u001b[0m",
            "\u001b[1;31mTypeError\u001b[0m                                 Traceback (most recent call last)",
            "\u001b[1;31mTypeError\u001b[0m: only size-1 arrays can be converted to Python scalars",
            "\nThe above exception was the direct cause of the following exception:\n",
            "\u001b[1;31mValueError\u001b[0m                                Traceback (most recent call last)",
            "Cell \u001b[1;32mIn[55], line 1\u001b[0m\n\u001b[1;32m----> 1\u001b[0m X_train \u001b[39m=\u001b[39m tf\u001b[39m.\u001b[39mconvert_to_tensor(X_train\u001b[39m.\u001b[39;49mto_numpy()\u001b[39m.\u001b[39;49mastype(np\u001b[39m.\u001b[39;49mfloat32))\n\u001b[0;32m      2\u001b[0m X_test \u001b[39m=\u001b[39m tf\u001b[39m.\u001b[39mconvert_to_tensor(X_test\u001b[39m.\u001b[39mto_numpy()\u001b[39m.\u001b[39mastype(np\u001b[39m.\u001b[39mfloat32))\n",
            "\u001b[1;31mValueError\u001b[0m: setting an array element with a sequence."
          ]
        }
      ],
      "source": [
        "X_train = tf.convert_to_tensor(X_train.to_numpy().astype(np.float32))\n",
        "X_test = tf.convert_to_tensor(X_test.to_numpy().astype(np.float32))"
      ]
    },
    {
      "cell_type": "code",
      "execution_count": 78,
      "metadata": {
        "id": "Np7boSfvIKvP"
      },
      "outputs": [],
      "source": [
        "# Encode labels to one hot vectors (ex : \"B\" -> 0 -> [0,1,0,0,0,0,\n",
        "                                                    # 0,0,0,0,0,0,\n",
        "                                                    # 0,0,0,0,0,0,\n",
        "                                                    # 0,0,0,0,0,0,\n",
        "                                                    # 0,0])\n",
        "Y_train = to_categorical(Y_train, num_classes=24, dtype='int32')\n",
        "Y_test = to_categorical(Y_test, num_classes=24, dtype=\"int32\")"
      ]
    },
    {
      "cell_type": "markdown",
      "metadata": {
        "id": "d2WBt-c2IKvP"
      },
      "source": [
        "### 2.4 Example Sample"
      ]
    },
    {
      "cell_type": "code",
      "execution_count": 47,
      "metadata": {
        "colab": {
          "base_uri": "https://localhost:8080/",
          "height": 328
        },
        "collapsed": true,
        "id": "oySi3LjaIKvP",
        "outputId": "c4d45214-beee-4206-d1cd-375eafca5028"
      },
      "outputs": [
        {
          "data": {
            "image/png": "[encoded data removed]",
            "text/plain": [
              "<Figure size 640x480 with 1 Axes>"
            ]
          },
          "metadata": {},
          "output_type": "display_data"
        }
      ],
      "source": [
        "# Some examples\n",
        "g = plt.imshow(X_train[0][:,:])"
      ]
    },
    {
      "cell_type": "markdown",
      "metadata": {
        "id": "6tXrGK8eIKvP"
      },
      "source": [
        "## CNN\n",
        "### 3.1 Define the model"
      ]
    },
    {
      "cell_type": "code",
      "execution_count": 48,
      "metadata": {
        "id": "xBOZej2SIKvQ"
      },
      "outputs": [],
      "source": [
        "# Set the CNN model \n",
        "# our CNN architechture is In -> [[Conv2D->relu] -> BatchNormalize -> MaxPool2D]*3 -> Flatten -> Dense -> BatchNormalize -> Out\n",
        "\n",
        "model = Sequential()\n",
        "\n",
        "model.add(Conv2D(32, (3, 3), activation='relu', input_shape=(IMAGE_WIDTH, IMAGE_HEIGHT, IMAGE_CHANNELS)))\n",
        "model.add(BatchNormalization())\n",
        "model.add(MaxPooling2D(pool_size=(2, 2)))\n",
        "\n",
        "model.add(Conv2D(64, (3, 3), activation='relu'))\n",
        "model.add(BatchNormalization())\n",
        "model.add(MaxPooling2D(pool_size=(2, 2)))\n",
        "\n",
        "model.add(Conv2D(128, (3, 3), activation='relu'))\n",
        "model.add(BatchNormalization())\n",
        "model.add(MaxPooling2D(pool_size=(2, 2)))\n",
        "\n",
        "model.add(Flatten())\n",
        "model.add(Dense(512, activation='relu'))\n",
        "model.add(BatchNormalization())\n",
        "model.add(Dense(25, activation='softmax'))"
      ]
    },
    {
      "cell_type": "markdown",
      "metadata": {
        "id": "8BWx8Y3wIKvQ"
      },
      "source": [
        "### 3.2 Set the Optimizer"
      ]
    },
    {
      "cell_type": "code",
      "execution_count": 49,
      "metadata": {
        "id": "FNd7nWSeIKvQ"
      },
      "outputs": [],
      "source": [
        "# Compile the model\n",
        "model.compile(optimizer = 'rmsprop', loss = \"categorical_crossentropy\", metrics=[\"accuracy\"])"
      ]
    },
    {
      "cell_type": "markdown",
      "metadata": {
        "id": "6biE4YgyIKvQ"
      },
      "source": [
        "## Training"
      ]
    },
    {
      "cell_type": "code",
      "execution_count": 81,
      "metadata": {
        "colab": {
          "base_uri": "https://localhost:8080/"
        },
        "id": "KhWtrq9UGa-K",
        "outputId": "fb32443a-1160-4dff-e5e5-c317abbc3708"
      },
      "outputs": [
        {
          "data": {
            "text/plain": [
              "((19,), (19, 25), (5,), (5, 25))"
            ]
          },
          "execution_count": 81,
          "metadata": {},
          "output_type": "execute_result"
        }
      ],
      "source": [
        "X_train.shape, Y_train.shape, X_test.shape, Y_test.shape"
      ]
    },
    {
      "cell_type": "code",
      "execution_count": 50,
      "metadata": {
        "colab": {
          "base_uri": "https://localhost:8080/",
          "height": 311
        },
        "collapsed": true,
        "id": "kghLG57uIKvR",
        "outputId": "912295af-71d0-4aea-b0fe-869e1689b405"
      },
      "outputs": [
        {
          "ename": "ValueError",
          "evalue": "Failed to convert a NumPy array to a Tensor (Unsupported object type numpy.ndarray).",
          "output_type": "error",
          "traceback": [
            "\u001b[1;31m---------------------------------------------------------------------------\u001b[0m",
            "\u001b[1;31mValueError\u001b[0m                                Traceback (most recent call last)",
            "Cell \u001b[1;32mIn[50], line 1\u001b[0m\n\u001b[1;32m----> 1\u001b[0m model\u001b[39m.\u001b[39;49mfit(X_train, Y_train, batch_size \u001b[39m=\u001b[39;49m \u001b[39m4\u001b[39;49m, epochs \u001b[39m=\u001b[39;49m \u001b[39m10\u001b[39;49m, validation_data \u001b[39m=\u001b[39;49m (X_test, Y_test))\n",
            "File \u001b[1;32mc:\\Users\\StwayneXG\\AppData\\Local\\Programs\\Python\\Python310\\lib\\site-packages\\keras\\utils\\traceback_utils.py:70\u001b[0m, in \u001b[0;36mfilter_traceback.<locals>.error_handler\u001b[1;34m(*args, **kwargs)\u001b[0m\n\u001b[0;32m     67\u001b[0m     filtered_tb \u001b[39m=\u001b[39m _process_traceback_frames(e\u001b[39m.\u001b[39m__traceback__)\n\u001b[0;32m     68\u001b[0m     \u001b[39m# To get the full stack trace, call:\u001b[39;00m\n\u001b[0;32m     69\u001b[0m     \u001b[39m# `tf.debugging.disable_traceback_filtering()`\u001b[39;00m\n\u001b[1;32m---> 70\u001b[0m     \u001b[39mraise\u001b[39;00m e\u001b[39m.\u001b[39mwith_traceback(filtered_tb) \u001b[39mfrom\u001b[39;00m \u001b[39mNone\u001b[39m\n\u001b[0;32m     71\u001b[0m \u001b[39mfinally\u001b[39;00m:\n\u001b[0;32m     72\u001b[0m     \u001b[39mdel\u001b[39;00m filtered_tb\n",
            "File \u001b[1;32mc:\\Users\\StwayneXG\\AppData\\Local\\Programs\\Python\\Python310\\lib\\site-packages\\tensorflow\\python\\framework\\constant_op.py:102\u001b[0m, in \u001b[0;36mconvert_to_eager_tensor\u001b[1;34m(value, ctx, dtype)\u001b[0m\n\u001b[0;32m    100\u001b[0m     dtype \u001b[39m=\u001b[39m dtypes\u001b[39m.\u001b[39mas_dtype(dtype)\u001b[39m.\u001b[39mas_datatype_enum\n\u001b[0;32m    101\u001b[0m ctx\u001b[39m.\u001b[39mensure_initialized()\n\u001b[1;32m--> 102\u001b[0m \u001b[39mreturn\u001b[39;00m ops\u001b[39m.\u001b[39;49mEagerTensor(value, ctx\u001b[39m.\u001b[39;49mdevice_name, dtype)\n",
            "\u001b[1;31mValueError\u001b[0m: Failed to convert a NumPy array to a Tensor (Unsupported object type numpy.ndarray)."
          ]
        }
      ],
      "source": [
        "model.fit(X_train, Y_train, batch_size = 4, epochs = 10, validation_data = (X_test, Y_test))"
      ]
    },
    {
      "cell_type": "markdown",
      "metadata": {
        "id": "xZnfKg8OIKvR"
      },
      "source": [
        "## Evaluation"
      ]
    },
    {
      "cell_type": "markdown",
      "metadata": {
        "id": "PHkyYsySIKvR"
      },
      "source": [
        "# Advanced Concepts\n",
        "## Preprocessing \n",
        "Histogram Equalization, Mean Normalization, Standard Deviation Normalization\n",
        "## Augmentation\n",
        "Rotating, Mirroring, Blurring, Noising\n",
        "## Regularization\n",
        "Handling Overfitting\n",
        "## Model Designing\n",
        "## Optimizers\n",
        "## Finetuning Existing Models"
      ]
    }
  ],
  "metadata": {
    "colab": {
      "provenance": []
    },
    "kernelspec": {
      "display_name": "Python 3",
      "language": "python",
      "name": "python3"
    },
    "language_info": {
      "codemirror_mode": {
        "name": "ipython",
        "version": 3
      },
      "file_extension": ".py",
      "mimetype": "text/x-python",
      "name": "python",
      "nbconvert_exporter": "python",
      "pygments_lexer": "ipython3",
      "version": "3.10.7"
    },
    "orig_nbformat": 4
  },
  "nbformat": 4,
  "nbformat_minor": 0
}
